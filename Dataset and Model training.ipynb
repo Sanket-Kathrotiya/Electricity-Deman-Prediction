{
 "cells": [
  {
   "cell_type": "code",
   "execution_count": 1,
   "id": "a1f05a1f",
   "metadata": {},
   "outputs": [],
   "source": [
    "import pandas as pd\n",
    "from pandas.tseries.holiday import USFederalHolidayCalendar as calendar\n",
    "import requests\n",
    "from config import eia_key"
   ]
  },
  {
   "cell_type": "code",
   "execution_count": 2,
   "id": "fc0e7327",
   "metadata": {},
   "outputs": [],
   "source": [
    "offset = 0\n",
    "df = []\n",
    "while offset<48900:\n",
    "    url = 'https://api.eia.gov/v2/electricity/rto/region-data/data/?frequency=hourly&data[0]=value&facets[respondent][]=NY&facets[type][]=D&start=2019-01-01T00&end=2024-08-01T00&sort[0][column]=period&sort[0][direction]=desc&offset=' + str(offset) + \"&length=5000&api_key=\" + eia_key\n",
    "    data = requests.get(url).json()['response']['data']\n",
    "    data = pd.DataFrame(data)\n",
    "    df.append(data)\n",
    "    offset+=5000\n",
    "    "
   ]
  },
  {
   "cell_type": "code",
   "execution_count": 3,
   "id": "bd2f02aa",
   "metadata": {},
   "outputs": [],
   "source": [
    "data = pd.concat(df, ignore_index=True)"
   ]
  },
  {
   "cell_type": "code",
   "execution_count": 4,
   "id": "240b0e4b",
   "metadata": {},
   "outputs": [],
   "source": [
    "demand_hourly = data[['period', 'value']].rename(columns={'period': 'date', 'value': 'demand'})\n",
    "demand_hourly['date'] = pd.to_datetime(demand_hourly['date'], infer_datetime_format=True)\n"
   ]
  },
  {
   "cell_type": "code",
   "execution_count": 8,
   "id": "50ca5c71",
   "metadata": {},
   "outputs": [],
   "source": [
    "import openmeteo_requests\n",
    "import requests_cache\n",
    "import pandas as pd\n",
    "from retry_requests import retry\n",
    "\n",
    "# Setup the Open-Meteo API client with cache and retry on error\n",
    "cache_session = requests_cache.CachedSession('.cache', expire_after = -1)\n",
    "retry_session = retry(cache_session, retries = 5, backoff_factor = 0.2)\n",
    "openmeteo = openmeteo_requests.Client(session = retry_session)\n",
    "\n",
    "# Make sure all required weather variables are listed here\n",
    "# The order of variables in hourly or daily is important to assign them correctly below\n",
    "url = \"https://archive-api.open-meteo.com/v1/archive\"\n",
    "params = {\n",
    "\t\"latitude\": 40.7143,\n",
    "\t\"longitude\": -74.006,\n",
    "\t\"start_date\": \"2019-01-01\",\n",
    "\t\"end_date\": \"2024-08-01\",\n",
    "\t\"hourly\": \"temperature_2m\",\n",
    "\t\"timezone\": \"auto\"\n",
    "}\n",
    "responses = openmeteo.weather_api(url, params=params)\n",
    "\n",
    "# Process first location. Add a for-loop for multiple locations or weather models\n",
    "response = responses[0]\n",
    "\n",
    "# Process hourly data. The order of variables needs to be the same as requested.\n",
    "hourly = response.Hourly()\n",
    "hourly_temperature_2m = hourly.Variables(0).ValuesAsNumpy()\n",
    "\n",
    "hourly_data = {\"date\": pd.date_range(\n",
    "\tstart = pd.to_datetime(hourly.Time(), unit = \"s\", utc = True),\n",
    "\tend = pd.to_datetime(hourly.TimeEnd(), unit = \"s\", utc = True),\n",
    "\tfreq = pd.Timedelta(seconds = hourly.Interval()),\n",
    "\tinclusive = \"left\"\n",
    ")}\n",
    "hourly_data[\"temperature\"] = hourly_temperature_2m\n",
    "\n",
    "hourly_temperature_dataframe = pd.DataFrame(data = hourly_data)\n"
   ]
  },
  {
   "cell_type": "code",
   "execution_count": 9,
   "id": "9672d6d8",
   "metadata": {},
   "outputs": [],
   "source": [
    "\n",
    "hourly_temperature_dataframe['date'] = hourly_temperature_dataframe['date'].dt.tz_localize(None).dt.strftime('%Y-%m-%d %H:%M:%S')"
   ]
  },
  {
   "cell_type": "code",
   "execution_count": 10,
   "id": "a17f2267",
   "metadata": {},
   "outputs": [
    {
     "name": "stdout",
     "output_type": "stream",
     "text": [
      "                     date  temperature demand\n",
      "0     2019-01-01 04:00:00     7.872500  16613\n",
      "1     2019-01-01 05:00:00     8.672500  15774\n",
      "2     2019-01-01 06:00:00     9.172500  15053\n",
      "3     2019-01-01 07:00:00    10.822500  14481\n",
      "4     2019-01-01 08:00:00    12.572500  13927\n",
      "...                   ...          ...    ...\n",
      "48928 2024-07-31 20:00:00    31.822498  26673\n",
      "48929 2024-07-31 21:00:00    30.722500  27069\n",
      "48930 2024-07-31 22:00:00    25.972500  27552\n",
      "48931 2024-07-31 23:00:00    25.722500  27566\n",
      "48932 2024-08-01 00:00:00    24.372499  27194\n",
      "\n",
      "[48933 rows x 3 columns]\n"
     ]
    }
   ],
   "source": [
    "import pandas as pd\n",
    "\n",
    "# Assuming demand_hourly and hourly_temperature_dataframe are your two dataframes\n",
    "\n",
    "# Convert the date columns to datetime format if they are not already\n",
    "demand_hourly['date'] = pd.to_datetime(demand_hourly['date'])\n",
    "hourly_temperature_dataframe['date'] = pd.to_datetime(hourly_temperature_dataframe['date'])\n",
    "\n",
    "# Ensure the datetime values are floored to the nearest hour for consistency\n",
    "demand_hourly['date'] = demand_hourly['date'].dt.floor('H')\n",
    "hourly_temperature_dataframe['date'] = hourly_temperature_dataframe['date'].dt.floor('H')\n",
    "\n",
    "# Sort both dataframes by date\n",
    "demand_hourly.sort_values('date', inplace=True)\n",
    "hourly_temperature_dataframe.sort_values('date', inplace=True)\n",
    "\n",
    "# Merge the dataframes on the 'date' column\n",
    "df = pd.merge(hourly_temperature_dataframe, demand_hourly, on='date', how='inner')\n",
    "df.to_csv('dataset.csv')\n",
    "# Display the combined dataframe\n",
    "print(df)\n"
   ]
  }
 ],
 "metadata": {
  "kernelspec": {
   "display_name": "Python 3 (ipykernel)",
   "language": "python",
   "name": "python3"
  },
  "language_info": {
   "codemirror_mode": {
    "name": "ipython",
    "version": 3
   },
   "file_extension": ".py",
   "mimetype": "text/x-python",
   "name": "python",
   "nbconvert_exporter": "python",
   "pygments_lexer": "ipython3",
   "version": "3.9.12"
  }
 },
 "nbformat": 4,
 "nbformat_minor": 5
}
