{
 "cells": [
  {
   "cell_type": "code",
   "execution_count": 1,
   "id": "a1f05a1f",
   "metadata": {},
   "outputs": [],
   "source": [
    "import pandas as pd\n",
    "from pandas.tseries.holiday import USFederalHolidayCalendar as calendar\n",
    "import requests\n",
    "from config import eia_key\n",
    "\n",
    "from sklearn.model_selection import train_test_split\n",
    "from sklearn.metrics import mean_squared_error, r2_score\n",
    "from sklearn.linear_model import LinearRegression\n",
    "from sklearn.ensemble import RandomForestRegressor, GradientBoostingRegressor\n",
    "\n",
    "import xgboost as xgb\n"
   ]
  },
  {
   "cell_type": "markdown",
   "id": "fef3a092",
   "metadata": {},
   "source": [
    "*Electricity Demand Data*"
   ]
  },
  {
   "cell_type": "markdown",
   "id": "a7624b8a",
   "metadata": {},
   "source": [
    "create your api account on https://www.eia.gov/opendata/ and get own your API key.\n",
    "save that api ket with eia_key variable in this file before running following code."
   ]
  },
  {
   "cell_type": "code",
   "execution_count": 1,
   "id": "07a46a2d",
   "metadata": {},
   "outputs": [],
   "source": [
    "#eia_key = \"your_api_key\""
   ]
  },
  {
   "cell_type": "code",
   "execution_count": 2,
   "id": "fc0e7327",
   "metadata": {},
   "outputs": [],
   "source": [
    "offset = 0\n",
    "df = []\n",
    "while offset<48900:\n",
    "    url = 'https://api.eia.gov/v2/electricity/rto/region-data/data/?frequency=hourly&data[0]=value&facets[respondent][]=NY&facets[type][]=D&start=2019-01-01T00&end=2024-08-01T00&sort[0][column]=period&sort[0][direction]=desc&offset=' + str(offset) + \"&length=5000&api_key=\" + eia_key\n",
    "    data = requests.get(url).json()['response']['data']\n",
    "    data = pd.DataFrame(data)\n",
    "    df.append(data)\n",
    "    offset+=5000\n",
    "    "
   ]
  },
  {
   "cell_type": "code",
   "execution_count": 3,
   "id": "240b0e4b",
   "metadata": {},
   "outputs": [
    {
     "name": "stderr",
     "output_type": "stream",
     "text": [
      "/tmp/ipykernel_33782/1324632485.py:5: UserWarning: The argument 'infer_datetime_format' is deprecated and will be removed in a future version. A strict version of it is now the default, see https://pandas.pydata.org/pdeps/0004-consistent-to-datetime-parsing.html. You can safely remove this argument.\n",
      "  demand_hourly['date'] = pd.to_datetime(demand_hourly['date'], infer_datetime_format=True)\n"
     ]
    }
   ],
   "source": [
    "data = pd.concat(df, ignore_index=True)\n",
    "\n",
    "\n",
    "demand_hourly = data[['period', 'value']].rename(columns={'period': 'date', 'value': 'demand'})\n",
    "demand_hourly['date'] = pd.to_datetime(demand_hourly['date'], infer_datetime_format=True)\n"
   ]
  },
  {
   "cell_type": "markdown",
   "id": "524876cf",
   "metadata": {},
   "source": [
    "Temperature Data"
   ]
  },
  {
   "cell_type": "code",
   "execution_count": 4,
   "id": "50ca5c71",
   "metadata": {},
   "outputs": [],
   "source": [
    "import openmeteo_requests\n",
    "import requests_cache\n",
    "import pandas as pd\n",
    "from retry_requests import retry\n",
    "\n",
    "# Setup the Open-Meteo API client with cache and retry on error\n",
    "cache_session = requests_cache.CachedSession('.cache', expire_after = -1)\n",
    "retry_session = retry(cache_session, retries = 5, backoff_factor = 0.2)\n",
    "openmeteo = openmeteo_requests.Client(session = retry_session)\n",
    "\n",
    "# Make sure all required weather variables are listed here\n",
    "# The order of variables in hourly or daily is important to assign them correctly below\n",
    "url = \"https://archive-api.open-meteo.com/v1/archive\"\n",
    "params = {\n",
    "\t\"latitude\": 40.7143,\n",
    "\t\"longitude\": -74.006,\n",
    "\t\"start_date\": \"2019-01-01\",\n",
    "\t\"end_date\": \"2024-08-01\",\n",
    "\t\"hourly\": \"temperature_2m\",\n",
    "\t\"timezone\": \"auto\"\n",
    "}\n",
    "responses = openmeteo.weather_api(url, params=params)\n",
    "\n",
    "# Process first location. Add a for-loop for multiple locations or weather models\n",
    "response = responses[0]\n",
    "\n",
    "# Process hourly data. The order of variables needs to be the same as requested.\n",
    "hourly = response.Hourly()\n",
    "hourly_temperature_2m = hourly.Variables(0).ValuesAsNumpy()\n",
    "\n",
    "hourly_data = {\"date\": pd.date_range(\n",
    "\tstart = pd.to_datetime(hourly.Time(), unit = \"s\", utc = True),\n",
    "\tend = pd.to_datetime(hourly.TimeEnd(), unit = \"s\", utc = True),\n",
    "\tfreq = pd.Timedelta(seconds = hourly.Interval()),\n",
    "\tinclusive = \"left\"\n",
    ")}\n",
    "hourly_data[\"temperature\"] = hourly_temperature_2m\n",
    "\n",
    "hourly_temperature_dataframe = pd.DataFrame(data = hourly_data)\n",
    "\n",
    "hourly_temperature_dataframe['date'] = hourly_temperature_dataframe['date'].dt.tz_localize(None).dt.strftime('%Y-%m-%d %H:%M:%S')\n"
   ]
  },
  {
   "cell_type": "markdown",
   "id": "cc39f9a8",
   "metadata": {},
   "source": [
    "Data Preprocessing"
   ]
  },
  {
   "cell_type": "code",
   "execution_count": 5,
   "id": "a17f2267",
   "metadata": {},
   "outputs": [
    {
     "name": "stdout",
     "output_type": "stream",
     "text": [
      "                     date  temperature demand\n",
      "0     2019-01-01 04:00:00     7.872500  16613\n",
      "1     2019-01-01 05:00:00     8.672500  15774\n",
      "2     2019-01-01 06:00:00     9.172500  15053\n",
      "3     2019-01-01 07:00:00    10.822500  14481\n",
      "4     2019-01-01 08:00:00    12.572500  13927\n",
      "...                   ...          ...    ...\n",
      "48928 2024-07-31 20:00:00    31.822498  26673\n",
      "48929 2024-07-31 21:00:00    30.722500  27069\n",
      "48930 2024-07-31 22:00:00    25.972500  27552\n",
      "48931 2024-07-31 23:00:00    25.722500  27566\n",
      "48932 2024-08-01 00:00:00    24.372499  27194\n",
      "\n",
      "[48933 rows x 3 columns]\n"
     ]
    },
    {
     "name": "stderr",
     "output_type": "stream",
     "text": [
      "/tmp/ipykernel_33782/1378415741.py:8: FutureWarning: 'H' is deprecated and will be removed in a future version, please use 'h' instead.\n",
      "  demand_hourly['date'] = demand_hourly['date'].dt.floor('H')\n",
      "/tmp/ipykernel_33782/1378415741.py:9: FutureWarning: 'H' is deprecated and will be removed in a future version, please use 'h' instead.\n",
      "  hourly_temperature_dataframe['date'] = hourly_temperature_dataframe['date'].dt.floor('H')\n"
     ]
    }
   ],
   "source": [
    "\n",
    "\n",
    "# Assuming demand_hourly and hourly_temperature_dataframe are your two dataframes\n",
    "\n",
    "# Convert the date columns to datetime format if they are not already\n",
    "demand_hourly['date'] = pd.to_datetime(demand_hourly['date'])\n",
    "hourly_temperature_dataframe['date'] = pd.to_datetime(hourly_temperature_dataframe['date'])\n",
    "\n",
    "# Ensure the datetime values are floored to the nearest hour for consistency\n",
    "demand_hourly['date'] = demand_hourly['date'].dt.floor('H')\n",
    "hourly_temperature_dataframe['date'] = hourly_temperature_dataframe['date'].dt.floor('H')\n",
    "\n",
    "# Sort both dataframes by date\n",
    "demand_hourly.sort_values('date', inplace=True)\n",
    "hourly_temperature_dataframe.sort_values('date', inplace=True)\n",
    "\n",
    "# Merge the dataframes on the 'date' column\n",
    "df = pd.merge(hourly_temperature_dataframe, demand_hourly, on='date', how='inner')\n",
    "df.to_csv('dataset.csv')\n",
    "# Display the combined dataframe\n",
    "print(df)\n"
   ]
  },
  {
   "cell_type": "code",
   "execution_count": 6,
   "id": "fea2b1db",
   "metadata": {},
   "outputs": [],
   "source": [
    "# Extract features from 'date' column\n",
    "df['year'] = df['date'].dt.year\n",
    "df['month'] = df['date'].dt.month\n",
    "df['day'] = df['date'].dt.day\n",
    "df['hr'] = df['date'].dt.hour\n",
    "df['day_of_week'] = df['date'].dt.dayofweek  # Monday=0, Sunday=6\n",
    "df['is_weekend'] = df['date'].dt.dayofweek >= 5  # True if weekend, False otherwise"
   ]
  },
  {
   "cell_type": "code",
   "execution_count": 7,
   "id": "8792afba",
   "metadata": {},
   "outputs": [
    {
     "name": "stdout",
     "output_type": "stream",
     "text": [
      "date           datetime64[ns]\n",
      "temperature           float32\n",
      "demand                float64\n",
      "year                    int32\n",
      "month                   int32\n",
      "day                     int32\n",
      "hr                      int32\n",
      "day_of_week             int32\n",
      "is_weekend               bool\n",
      "holiday                 int64\n",
      "dtype: object\n"
     ]
    }
   ],
   "source": [
    "#  bank holiday\n",
    "holidays = calendar().holidays(start=df['date'].min(), end=df['date'].max())\n",
    "df['holiday'] = df['date'].isin(holidays).astype(int)\n",
    "df['date'] = pd.to_datetime(df['date'])\n",
    "\n",
    "df['demand'] = pd.to_numeric(df['demand'], errors='coerce').astype('float')\n",
    "print(df.dtypes)\n"
   ]
  },
  {
   "cell_type": "code",
   "execution_count": 10,
   "id": "2e598bc4",
   "metadata": {},
   "outputs": [
    {
     "data": {
      "text/plain": [
       "date           2021-10-16 14:00:00\n",
       "temperature              12.405856\n",
       "demand                17294.824433\n",
       "year                   2021.313142\n",
       "month                     6.261378\n",
       "day                       15.72822\n",
       "hr                       11.500582\n",
       "day_of_week               2.998692\n",
       "is_weekend                0.285452\n",
       "holiday                   0.001185\n",
       "dtype: object"
      ]
     },
     "execution_count": 10,
     "metadata": {},
     "output_type": "execute_result"
    }
   ],
   "source": [
    "df.mean()"
   ]
  },
  {
   "cell_type": "markdown",
   "id": "be0d629e",
   "metadata": {},
   "source": [
    "Splitting the Dataset"
   ]
  },
  {
   "cell_type": "code",
   "execution_count": 8,
   "id": "a920b623",
   "metadata": {},
   "outputs": [],
   "source": [
    "# Define features and target\n",
    "X = df.drop('demand', axis=1)\n",
    "X = X.drop('date', axis=1)\n",
    "\n",
    "y = df['demand']"
   ]
  },
  {
   "cell_type": "code",
   "execution_count": 9,
   "id": "f3acaf5e",
   "metadata": {},
   "outputs": [],
   "source": [
    "# Split the data into training and testing sets\n",
    "X_train, X_test, y_train, y_test = train_test_split(X, y, test_size=0.2, random_state=42)"
   ]
  },
  {
   "cell_type": "markdown",
   "id": "bf8bcf16",
   "metadata": {},
   "source": [
    "Model Training"
   ]
  },
  {
   "cell_type": "code",
   "execution_count": 51,
   "id": "4a41776b",
   "metadata": {},
   "outputs": [
    {
     "name": "stdout",
     "output_type": "stream",
     "text": [
      "Root Mean Squared Error: 1117.570812080609\n"
     ]
    }
   ],
   "source": [
    "\n",
    "# Define the model\n",
    "model = xgb.XGBRegressor(tree_method=\"hist\", early_stopping_rounds=3)\n",
    "\n",
    "# Train the model\n",
    "model.fit(X_train, y_train, eval_set=[(X_test, y_test)], verbose=False)\n",
    "\n",
    "# Predict on the test set\n",
    "y_pred = model.predict(X_test)\n",
    "\n",
    "# Evaluate the model\n",
    "mse = mean_squared_error(y_test, y_pred)\n",
    "rmse = mse ** 0.5\n",
    "print(f'Root Mean Squared Error: {rmse}')"
   ]
  },
  {
   "cell_type": "code",
   "execution_count": 52,
   "id": "eefa1f7f",
   "metadata": {},
   "outputs": [
    {
     "name": "stdout",
     "output_type": "stream",
     "text": [
      "Mean Squared Error: 1248964.5200145114\n",
      "Mean Absolute Error: 794.1748928944327\n",
      "R² Score: 0.8741991854817652\n"
     ]
    }
   ],
   "source": [
    "\n",
    "# Evaluate the model\n",
    "mse = mean_squared_error(y_test, y_pred)\n",
    "mae = mean_absolute_error(y_test, y_pred)\n",
    "r2 = r2_score(y_test, y_pred)\n",
    "\n",
    "print(f'Mean Squared Error: {mse}')\n",
    "print(f'Mean Absolute Error: {mae}')\n",
    "print(f'R² Score: {r2}')"
   ]
  },
  {
   "cell_type": "code",
   "execution_count": 119,
   "id": "34897e3b",
   "metadata": {},
   "outputs": [],
   "source": [
    "new_observation = pd.DataFrame({\n",
    "    'temperature' : [21],\n",
    "    'year': [2024],\n",
    "    'month': [8],\n",
    "    'day': [12],\n",
    "    'hr': [3],\n",
    "    'day_of_week': [1],\n",
    "    'is_weekend': [0],\n",
    "    'holiday': [0]\n",
    "})"
   ]
  },
  {
   "cell_type": "code",
   "execution_count": 120,
   "id": "866abbaf",
   "metadata": {},
   "outputs": [],
   "source": [
    "y_pred = model.predict(new_observation)"
   ]
  },
  {
   "cell_type": "code",
   "execution_count": 121,
   "id": "f8b3f4db",
   "metadata": {},
   "outputs": [
    {
     "name": "stdout",
     "output_type": "stream",
     "text": [
      "[20032.707]\n"
     ]
    }
   ],
   "source": [
    "print(y_pred)"
   ]
  },
  {
   "cell_type": "code",
   "execution_count": 74,
   "id": "b2954e49",
   "metadata": {},
   "outputs": [
    {
     "name": "stdout",
     "output_type": "stream",
     "text": [
      "Linear Regression - Root Mean Squared Error: 2853.410496488196, R^2 Score: 0.1799093495395423\n",
      "Random Forest - Root Mean Squared Error: 700.6667716579755, R^2 Score: 0.9505511272433568\n",
      "Gradient Boosting - Root Mean Squared Error: 958.3306321314395, R^2 Score: 0.9074952375822367\n",
      "XGBoost - Root Mean Squared Error: 716.2864835682041, R^2 Score: 0.9483218612325548\n"
     ]
    }
   ],
   "source": [
    "models = {\n",
    "    'Linear Regression': LinearRegression(),\n",
    "    'Random Forest': RandomForestRegressor(n_estimators=100, random_state=42),\n",
    "    'Gradient Boosting': GradientBoostingRegressor(n_estimators=100, learning_rate=0.1, random_state=42),\n",
    "    'XGBoost': xgb.XGBRegressor(n_estimators=100, learning_rate=0.1, tree_method=\"hist\", random_state=42)\n",
    "}\n",
    "\n",
    "# Evaluate each model\n",
    "for name, model in models.items():\n",
    "    model.fit(X_train, y_train)\n",
    "    y_pred = model.predict(X_test)\n",
    "    mse = mean_squared_error(y_test, y_pred)\n",
    "    rmse = mse ** 0.5\n",
    "    r2 = r2_score(y_test, y_pred)\n",
    "    print(f'{name} - Root Mean Squared Error: {rmse}, R^2 Score: {r2}')\n"
   ]
  },
  {
   "cell_type": "code",
   "execution_count": null,
   "id": "8679bebf",
   "metadata": {},
   "outputs": [],
   "source": []
  }
 ],
 "metadata": {
  "kernelspec": {
   "display_name": "Python 3 (ipykernel)",
   "language": "python",
   "name": "python3"
  },
  "language_info": {
   "codemirror_mode": {
    "name": "ipython",
    "version": 3
   },
   "file_extension": ".py",
   "mimetype": "text/x-python",
   "name": "python",
   "nbconvert_exporter": "python",
   "pygments_lexer": "ipython3",
   "version": "3.10.13"
  }
 },
 "nbformat": 4,
 "nbformat_minor": 5
}
